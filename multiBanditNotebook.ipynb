{
 "cells": [
  {
   "cell_type": "code",
   "execution_count": 1,
   "metadata": {},
   "outputs": [],
   "source": [
    "# make sure the notebook reloads the module each time we modify it\n",
    "%load_ext autoreload\n",
    "%autoreload 2\n",
    "\n",
    "# make sure the displays are nice\n",
    "%matplotlib inline\n",
    "#figsize(12,8)"
   ]
  },
  {
   "cell_type": "code",
   "execution_count": 2,
   "metadata": {},
   "outputs": [],
   "source": [
    "from src.arms import *\n",
    "from Experiments import *\n",
    "from src.stochastic_bandit import *\n",
    "from src.multiplayers import *\n",
    "import matplotlib.pyplot as plt"
   ]
  },
  {
   "cell_type": "code",
   "execution_count": 8,
   "metadata": {},
   "outputs": [
    {
     "output_type": "error",
     "ename": "AttributeError",
     "evalue": "'BernoulliMAB' object has no attribute 'm_best_arms_means'",
     "traceback": [
      "\u001b[0;31m---------------------------------------------------------------------------\u001b[0m",
      "\u001b[0;31mAttributeError\u001b[0m                            Traceback (most recent call last)",
      "\u001b[0;32m<ipython-input-8-322d2b96eec8>\u001b[0m in \u001b[0;36m<module>\u001b[0;34m\u001b[0m\n\u001b[1;32m      4\u001b[0m \u001b[0mselections\u001b[0m\u001b[0;34m,\u001b[0m \u001b[0mcollisions\u001b[0m\u001b[0;34m,\u001b[0m \u001b[0mchairs\u001b[0m\u001b[0;34m,\u001b[0m \u001b[0msensing_infos\u001b[0m\u001b[0;34m=\u001b[0m\u001b[0mmultiplayer_env\u001b[0m\u001b[0;34m(\u001b[0m\u001b[0mbandit\u001b[0m\u001b[0;34m,\u001b[0m \u001b[0mplayers\u001b[0m\u001b[0;34m,\u001b[0m \u001b[0mmax_time\u001b[0m\u001b[0;34m)\u001b[0m\u001b[0;34m\u001b[0m\u001b[0;34m\u001b[0m\u001b[0m\n\u001b[1;32m      5\u001b[0m \u001b[0;34m\u001b[0m\u001b[0m\n\u001b[0;32m----> 6\u001b[0;31m \u001b[0mcumulative_centralised_regret\u001b[0m\u001b[0;34m(\u001b[0m\u001b[0mbandit\u001b[0m\u001b[0;34m,\u001b[0m\u001b[0mselections\u001b[0m\u001b[0;34m)\u001b[0m\u001b[0;34m\u001b[0m\u001b[0;34m\u001b[0m\u001b[0m\n\u001b[0m",
      "\u001b[0;32m~/Documents/M2/SDM/project/src/multiplayers.py\u001b[0m in \u001b[0;36mcumulative_centralised_regret\u001b[0;34m(bandit, selections)\u001b[0m\n\u001b[1;32m     83\u001b[0m \u001b[0;32mdef\u001b[0m \u001b[0mcumulative_centralised_regret\u001b[0m\u001b[0;34m(\u001b[0m\u001b[0mbandit\u001b[0m\u001b[0;34m,\u001b[0m\u001b[0mselections\u001b[0m\u001b[0;34m)\u001b[0m\u001b[0;34m:\u001b[0m\u001b[0;34m\u001b[0m\u001b[0;34m\u001b[0m\u001b[0m\n\u001b[1;32m     84\u001b[0m     \u001b[0;34m\"\"\"Compute the cumulative centralised pseudo-regret associated to players sequence of arm selections\"\"\"\u001b[0m\u001b[0;34m\u001b[0m\u001b[0;34m\u001b[0m\u001b[0m\n\u001b[0;32m---> 85\u001b[0;31m     \u001b[0;32mreturn\u001b[0m \u001b[0mnp\u001b[0m\u001b[0;34m.\u001b[0m\u001b[0msum\u001b[0m\u001b[0;34m(\u001b[0m\u001b[0mnp\u001b[0m\u001b[0;34m.\u001b[0m\u001b[0mcumsum\u001b[0m\u001b[0;34m(\u001b[0m\u001b[0mbandit\u001b[0m\u001b[0;34m.\u001b[0m\u001b[0mm_best_arms_means\u001b[0m\u001b[0;34m.\u001b[0m\u001b[0mreshape\u001b[0m\u001b[0;34m(\u001b[0m\u001b[0;34m-\u001b[0m\u001b[0;36m1\u001b[0m\u001b[0;34m,\u001b[0m\u001b[0;36m1\u001b[0m\u001b[0;34m)\u001b[0m\u001b[0;34m*\u001b[0m\u001b[0mnp\u001b[0m\u001b[0;34m.\u001b[0m\u001b[0mones\u001b[0m\u001b[0;34m(\u001b[0m\u001b[0mselections\u001b[0m\u001b[0;34m.\u001b[0m\u001b[0mshape\u001b[0m\u001b[0;34m)\u001b[0m\u001b[0;34m-\u001b[0m\u001b[0mnp\u001b[0m\u001b[0;34m.\u001b[0m\u001b[0marray\u001b[0m\u001b[0;34m(\u001b[0m\u001b[0mbandit\u001b[0m\u001b[0;34m.\u001b[0m\u001b[0mmeans\u001b[0m\u001b[0;34m)\u001b[0m\u001b[0;34m[\u001b[0m\u001b[0mselections\u001b[0m\u001b[0;34m]\u001b[0m\u001b[0;34m,\u001b[0m\u001b[0maxis\u001b[0m\u001b[0;34m=\u001b[0m\u001b[0;36m1\u001b[0m\u001b[0;34m)\u001b[0m\u001b[0;34m,\u001b[0m\u001b[0maxis\u001b[0m\u001b[0;34m=\u001b[0m\u001b[0;36m0\u001b[0m\u001b[0;34m)\u001b[0m\u001b[0;34m\u001b[0m\u001b[0;34m\u001b[0m\u001b[0m\n\u001b[0m\u001b[1;32m     86\u001b[0m \u001b[0;34m\u001b[0m\u001b[0m\n\u001b[1;32m     87\u001b[0m \u001b[0;34m\u001b[0m\u001b[0m\n",
      "\u001b[0;31mAttributeError\u001b[0m: 'BernoulliMAB' object has no attribute 'm_best_arms_means'"
     ]
    }
   ],
   "source": [
    "bandit=BernoulliMAB([.5,.6,.7])\n",
    "players=[PlayerSelfish(nb_arms=3, nb_players=2,policy=KlUCBPolicy(bandit.arms)) for i in range(2)]\n",
    "max_time=100\n",
    "selections, collisions, chairs, sensing_infos=multiplayer_env(bandit, players, max_time)\n",
    "\n",
    "cumulative_centralised_regret(bandit,selections)"
   ]
  },
  {
   "cell_type": "code",
   "execution_count": null,
   "metadata": {},
   "outputs": [],
   "source": []
  },
  {
   "cell_type": "code",
   "execution_count": null,
   "metadata": {},
   "outputs": [],
   "source": [
    "r=np.random.uniform(0,1,(2,5))\n",
    "np.mean(r,axis=1)"
   ]
  },
  {
   "cell_type": "code",
   "execution_count": 5,
   "metadata": {},
   "outputs": [],
   "source": [
    "\n",
    "def run_experiments(n_random_arm,nb_arms,strategies,policy,nb_players,max_time):\n",
    "    \n",
    "    \"\"\"\n",
    "    Parameters: \n",
    "    n_random_arm (int) : number of averaging times (random geeration on arms)\n",
    "    nb_arms (int) : number of bandit  arms\n",
    "    strategies (list of palyer class ):  players strategy type ex: PlayerMcTop, PlayerRandTop, PlayersSelfish \n",
    "    policy (policy class) :  the policy to be used  ex: KlUCBPolicy, UCB1Policy\n",
    "    nb_players (int) : numbers of players\n",
    "    max_time (int):            experimnent time horizon\n",
    "\n",
    "    Output:\n",
    "    Plot the cumulative centralised regret of each strategy average on bandits n_random_arm instances times\n",
    "    \"\"\"\n",
    "    bandits=[BernoulliMAB(np.random.uniform(0,1,nb_arms),m=nb_players) for i in range(n_random_arm)]\n",
    "    names=[strategies[i].name() + \"_\" + policy.name() for i in range(len(strategies))]\n",
    "    strategy_cum_r=[]\n",
    "    for strategy in strategies:\n",
    "        r=[]\n",
    "        for i in range(n_random_arm):\n",
    "            bandit=bandits[i]\n",
    "            if policy.name()==\"KlUCB\":\n",
    "                players=[strategy(nb_arms=3, nb_players=2,policy=policy(bandit.arms))]\n",
    "                s,_,_,_=multiplayer_env(bandit, players, max_time)\n",
    "                r.append(cumulative_centralised_regret(bandit,s))\n",
    "            else:\n",
    "                players=[strategy(nb_arms=3, nb_players=2,policy=policy(alpha=0.1))]\n",
    "                s,_,_,_=multiplayer_env(bandit, players, max_time)\n",
    "                r.append(cumulative_centralised_regret(bandit,s))\n",
    "        strategy_cum_r.append(np.mean(np.array(r),axis=0))\n",
    "\n",
    "    for i in range(len(strategies)):\n",
    "        plt.plot(strategy_cum_r[i],label=names[i])\n",
    "    plt.legend()\n",
    "    plt.show()"
   ]
  },
  {
   "cell_type": "code",
   "execution_count": 6,
   "metadata": {},
   "outputs": [
    {
     "output_type": "error",
     "ename": "NameError",
     "evalue": "name 'PlayerMcTop' is not defined",
     "traceback": [
      "\u001b[0;31m---------------------------------------------------------------------------\u001b[0m",
      "\u001b[0;31mNameError\u001b[0m                                 Traceback (most recent call last)",
      "\u001b[0;32m<ipython-input-6-d1fe834b8706>\u001b[0m in \u001b[0;36m<module>\u001b[0;34m\u001b[0m\n\u001b[1;32m      3\u001b[0m \u001b[0mn_random_arm\u001b[0m\u001b[0;34m=\u001b[0m\u001b[0;36m500\u001b[0m\u001b[0;34m\u001b[0m\u001b[0;34m\u001b[0m\u001b[0m\n\u001b[1;32m      4\u001b[0m \u001b[0mmax_time\u001b[0m\u001b[0;34m=\u001b[0m\u001b[0;36m1000\u001b[0m\u001b[0;34m\u001b[0m\u001b[0;34m\u001b[0m\u001b[0m\n\u001b[0;32m----> 5\u001b[0;31m \u001b[0mstrategies\u001b[0m\u001b[0;34m=\u001b[0m\u001b[0;34m[\u001b[0m\u001b[0mPlayerSelfish\u001b[0m\u001b[0;34m,\u001b[0m\u001b[0mPlayerMcTop\u001b[0m\u001b[0;34m,\u001b[0m\u001b[0mPlayerRandTop\u001b[0m\u001b[0;34m]\u001b[0m\u001b[0;34m\u001b[0m\u001b[0;34m\u001b[0m\u001b[0m\n\u001b[0m\u001b[1;32m      6\u001b[0m \u001b[0mpolicy\u001b[0m\u001b[0;34m=\u001b[0m\u001b[0mKlUCBPolicy\u001b[0m\u001b[0;34m\u001b[0m\u001b[0;34m\u001b[0m\u001b[0m\n\u001b[1;32m      7\u001b[0m \u001b[0mrun_experiments\u001b[0m\u001b[0;34m(\u001b[0m\u001b[0mn_random_arm\u001b[0m\u001b[0;34m,\u001b[0m\u001b[0mnb_arms\u001b[0m\u001b[0;34m,\u001b[0m\u001b[0mstrategies\u001b[0m\u001b[0;34m,\u001b[0m\u001b[0mpolicy\u001b[0m\u001b[0;34m,\u001b[0m\u001b[0mnb_players\u001b[0m\u001b[0;34m,\u001b[0m\u001b[0mmax_time\u001b[0m\u001b[0;34m)\u001b[0m\u001b[0;34m\u001b[0m\u001b[0;34m\u001b[0m\u001b[0m\n",
      "\u001b[0;31mNameError\u001b[0m: name 'PlayerMcTop' is not defined"
     ]
    }
   ],
   "source": [
    "nb_arms=9\n",
    "nb_players=6\n",
    "n_random_arm=500\n",
    "max_time=1000\n",
    "strategies=[PlayerSelfish,PlayerMcTop,PlayerRandTop]\n",
    "policy=KlUCBPolicy\n",
    "run_experiments(n_random_arm,nb_arms,strategies,policy,nb_players,max_time)"
   ]
  },
  {
   "cell_type": "code",
   "execution_count": null,
   "metadata": {},
   "outputs": [],
   "source": []
  }
 ],
 "metadata": {
  "kernelspec": {
   "display_name": "Python 3",
   "language": "python",
   "name": "python3"
  },
  "language_info": {
   "codemirror_mode": {
    "name": "ipython",
    "version": 3
   },
   "file_extension": ".py",
   "mimetype": "text/x-python",
   "name": "python",
   "nbconvert_exporter": "python",
   "pygments_lexer": "ipython3",
   "version": "3.7.6-final"
  }
 },
 "nbformat": 4,
 "nbformat_minor": 4
}