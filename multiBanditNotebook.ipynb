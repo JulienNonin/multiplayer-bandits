{
 "cells": [
  {
   "cell_type": "code",
   "execution_count": 2,
   "metadata": {},
   "outputs": [],
   "source": [
    "# make sure the notebook reloads the module each time we modify it\n",
    "%load_ext autoreload\n",
    "%autoreload 2\n",
    "\n",
    "# make sure the displays are nice\n",
    "%matplotlib inline\n",
    "#figsize(12,8)"
   ]
  },
  {
   "cell_type": "code",
   "execution_count": 3,
   "metadata": {},
   "outputs": [],
   "source": [
    "from src.arms import *\n",
    "from Experiments import *\n",
    "from src.stochastic_bandit import *\n",
    "from src.multiplayers import *\n",
    "import matplotlib.pyplot as plt"
   ]
  },
  {
   "cell_type": "code",
   "execution_count": 10,
   "metadata": {},
   "outputs": [],
   "source": [
    "players=[PlayerRandTop(nb_arms=3, nb_players=2,policy=UCB1Policy(alpha\n",
    "=0.1)) for i in range(2)]\n",
    "bandit=BernoulliMAB([.5,.6,.7],m=2)\n",
    "max_time=100\n",
    "selections, collisions, chairs, sensing_infos=multiplayer_env(bandit, players, max_time)"
   ]
  },
  {
   "cell_type": "code",
   "execution_count": 25,
   "metadata": {},
   "outputs": [
    {
     "output_type": "execute_result",
     "data": {
      "text/plain": [
       "array([0.3, 0.4, 0.3, 0.2, 0.3, 0.4, 0.5, 0.6, 0.7, 0.7, 0.7, 0.7, 0.8,\n",
       "       0.8, 0.8, 0.8, 0.8, 0.8, 0.8, 0.8, 0.8, 0.8, 0.8, 0.8, 0.8, 0.8,\n",
       "       0.8, 0.8, 0.8, 0.8, 0.8, 0.8, 0.8, 0.8, 0.8, 0.8, 0.8, 0.8, 0.8,\n",
       "       0.8, 0.8, 0.8, 0.8, 0.8, 0.8, 0.8, 0.8, 0.8, 0.8, 0.8, 0.8, 0.8,\n",
       "       0.8, 0.8, 0.8, 0.8, 0.9, 1. , 1.2, 1.4, 1.6, 1.8, 2. , 2.2, 2.4,\n",
       "       2.6, 2.8, 3. , 3.2, 3.4, 3.6, 3.8, 4. , 4.2, 4.4, 4.6, 4.8, 4.9,\n",
       "       5.1, 5.3, 5.5, 5.7, 5.9, 6.1, 6.3, 6.5, 6.7, 6.9, 7.1, 7.3, 7.5,\n",
       "       7.7, 7.8, 8. , 8.2, 8.4, 8.6, 8.8, 9. , 9.1])"
      ]
     },
     "metadata": {},
     "execution_count": 25
    }
   ],
   "source": [
    "np.cumsum(bandit.m_best_arms_means.reshape(-1,1)*np.ones(selections.shape) - np.array(bandit.means)[selections],axis=1)\n",
    "np.sum(np.cumsum(bandit.m_best_arms_means.reshape(-1,1)*np.ones(selections.shape)-np.array(bandit.means)[selections],axis=1),axis=0)"
   ]
  },
  {
   "cell_type": "code",
   "execution_count": 26,
   "metadata": {},
   "outputs": [
    {
     "output_type": "execute_result",
     "data": {
      "text/plain": [
       "array([0.3, 0.4, 0.3, 0.2, 0.3, 0.4, 0.5, 0.6, 0.7, 0.7, 0.7, 0.7, 0.8,\n",
       "       0.8, 0.8, 0.8, 0.8, 0.8, 0.8, 0.8, 0.8, 0.8, 0.8, 0.8, 0.8, 0.8,\n",
       "       0.8, 0.8, 0.8, 0.8, 0.8, 0.8, 0.8, 0.8, 0.8, 0.8, 0.8, 0.8, 0.8,\n",
       "       0.8, 0.8, 0.8, 0.8, 0.8, 0.8, 0.8, 0.8, 0.8, 0.8, 0.8, 0.8, 0.8,\n",
       "       0.8, 0.8, 0.8, 0.8, 0.9, 1. , 1.2, 1.4, 1.6, 1.8, 2. , 2.2, 2.4,\n",
       "       2.6, 2.8, 3. , 3.2, 3.4, 3.6, 3.8, 4. , 4.2, 4.4, 4.6, 4.8, 4.9,\n",
       "       5.1, 5.3, 5.5, 5.7, 5.9, 6.1, 6.3, 6.5, 6.7, 6.9, 7.1, 7.3, 7.5,\n",
       "       7.7, 7.8, 8. , 8.2, 8.4, 8.6, 8.8, 9. , 9.1])"
      ]
     },
     "metadata": {},
     "execution_count": 26
    }
   ],
   "source": [
    "def CumulativeRegret(bandit,selections):\n",
    "    \"\"\"Compute the pseudo-regret associated to a sequence of arm selections\"\"\"\n",
    "    return np.cumsum(max(bandit.means)*np.ones(len(selections)) - np.array(bandit.means)[selections])\n",
    "\n",
    "def cumulative_centralised_regret(bandit,selections):\n",
    "    \"\"\"Compute the cumulative centralised pseudo-regret associated to players sequence of arm selections\"\"\"\n",
    "    return np.sum(np.cumsum(bandit.m_best_arms_means.reshape(-1,1)*np.ones(selections.shape)-np.array(bandit.means)[selections],axis=1),axis=0)\n",
    "\n",
    "cumulative_centralised_regret(bandit, selections)\n",
    "       "
   ]
  }
 ],
 "metadata": {
  "kernelspec": {
   "display_name": "Python 3",
   "language": "python",
   "name": "python3"
  },
  "language_info": {
   "codemirror_mode": {
    "name": "ipython",
    "version": 3
   },
   "file_extension": ".py",
   "mimetype": "text/x-python",
   "name": "python",
   "nbconvert_exporter": "python",
   "pygments_lexer": "ipython3",
   "version": "3.7.3-final"
  }
 },
 "nbformat": 4,
 "nbformat_minor": 4
}